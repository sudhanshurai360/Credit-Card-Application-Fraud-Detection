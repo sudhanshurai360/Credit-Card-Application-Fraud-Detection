{
 "cells": [
  {
   "cell_type": "code",
   "execution_count": 1,
   "id": "e5d06f4b",
   "metadata": {},
   "outputs": [],
   "source": [
    "import pandas as p\n",
    "import numpy as n\n",
    "import datetime as d\n",
    "import seaborn as sns\n",
    "import matplotlib.pyplot as plt\n",
    "%matplotlib inline\n",
    "import time"
   ]
  },
  {
   "cell_type": "code",
   "execution_count": 2,
   "id": "011b8432",
   "metadata": {},
   "outputs": [],
   "source": [
    "from timeit import default_timer as timer\n",
    "import scipy.stats\n",
    "import datetime as dt\n",
    "start_time = timer()\n",
    "from timeit import default_timer as timer"
   ]
  },
  {
   "cell_type": "code",
   "execution_count": 3,
   "id": "3eccf9a7",
   "metadata": {},
   "outputs": [
    {
     "data": {
      "text/html": [
       "<div>\n",
       "<style scoped>\n",
       "    .dataframe tbody tr th:only-of-type {\n",
       "        vertical-align: middle;\n",
       "    }\n",
       "\n",
       "    .dataframe tbody tr th {\n",
       "        vertical-align: top;\n",
       "    }\n",
       "\n",
       "    .dataframe thead th {\n",
       "        text-align: right;\n",
       "    }\n",
       "</style>\n",
       "<table border=\"1\" class=\"dataframe\">\n",
       "  <thead>\n",
       "    <tr style=\"text-align: right;\">\n",
       "      <th></th>\n",
       "      <th>record</th>\n",
       "      <th>date</th>\n",
       "      <th>ssn</th>\n",
       "      <th>firstname</th>\n",
       "      <th>lastname</th>\n",
       "      <th>address</th>\n",
       "      <th>zip5</th>\n",
       "      <th>dob</th>\n",
       "      <th>homephone</th>\n",
       "      <th>fraud_label</th>\n",
       "    </tr>\n",
       "  </thead>\n",
       "  <tbody>\n",
       "    <tr>\n",
       "      <th>0</th>\n",
       "      <td>1</td>\n",
       "      <td>20160101</td>\n",
       "      <td>379070012</td>\n",
       "      <td>XRRAMMTR</td>\n",
       "      <td>SMJETJMJ</td>\n",
       "      <td>6861 EUTST PL</td>\n",
       "      <td>2765</td>\n",
       "      <td>19070626</td>\n",
       "      <td>1797504115</td>\n",
       "      <td>0</td>\n",
       "    </tr>\n",
       "    <tr>\n",
       "      <th>1</th>\n",
       "      <td>2</td>\n",
       "      <td>20160101</td>\n",
       "      <td>387482503</td>\n",
       "      <td>MAMSTUJR</td>\n",
       "      <td>RTTEMRRR</td>\n",
       "      <td>7280 URASA PL</td>\n",
       "      <td>57169</td>\n",
       "      <td>19340615</td>\n",
       "      <td>4164239415</td>\n",
       "      <td>1</td>\n",
       "    </tr>\n",
       "    <tr>\n",
       "      <th>2</th>\n",
       "      <td>3</td>\n",
       "      <td>20160101</td>\n",
       "      <td>200332444</td>\n",
       "      <td>SZMMUJEZS</td>\n",
       "      <td>EUSEZRAE</td>\n",
       "      <td>5581 RSREX LN</td>\n",
       "      <td>56721</td>\n",
       "      <td>19070626</td>\n",
       "      <td>216537580</td>\n",
       "      <td>0</td>\n",
       "    </tr>\n",
       "    <tr>\n",
       "      <th>3</th>\n",
       "      <td>4</td>\n",
       "      <td>20160101</td>\n",
       "      <td>747451317</td>\n",
       "      <td>SJJZSXRSZ</td>\n",
       "      <td>ETJXTXXS</td>\n",
       "      <td>1387 UJZXJ RD</td>\n",
       "      <td>35286</td>\n",
       "      <td>19440430</td>\n",
       "      <td>132144161</td>\n",
       "      <td>0</td>\n",
       "    </tr>\n",
       "    <tr>\n",
       "      <th>4</th>\n",
       "      <td>5</td>\n",
       "      <td>20160101</td>\n",
       "      <td>24065868</td>\n",
       "      <td>SSSXUEJMS</td>\n",
       "      <td>SSUUJXUZ</td>\n",
       "      <td>279 EAASA WY</td>\n",
       "      <td>3173</td>\n",
       "      <td>19980315</td>\n",
       "      <td>6101082272</td>\n",
       "      <td>0</td>\n",
       "    </tr>\n",
       "  </tbody>\n",
       "</table>\n",
       "</div>"
      ],
      "text/plain": [
       "   record      date        ssn  firstname  lastname        address   zip5  \\\n",
       "0       1  20160101  379070012   XRRAMMTR  SMJETJMJ  6861 EUTST PL   2765   \n",
       "1       2  20160101  387482503   MAMSTUJR  RTTEMRRR  7280 URASA PL  57169   \n",
       "2       3  20160101  200332444  SZMMUJEZS  EUSEZRAE  5581 RSREX LN  56721   \n",
       "3       4  20160101  747451317  SJJZSXRSZ  ETJXTXXS  1387 UJZXJ RD  35286   \n",
       "4       5  20160101   24065868  SSSXUEJMS  SSUUJXUZ   279 EAASA WY   3173   \n",
       "\n",
       "        dob   homephone  fraud_label  \n",
       "0  19070626  1797504115            0  \n",
       "1  19340615  4164239415            1  \n",
       "2  19070626   216537580            0  \n",
       "3  19440430   132144161            0  \n",
       "4  19980315  6101082272            0  "
      ]
     },
     "execution_count": 3,
     "metadata": {},
     "output_type": "execute_result"
    }
   ],
   "source": [
    "data=p.read_csv('applications data.csv')\n",
    "data.head()"
   ]
  },
  {
   "cell_type": "code",
   "execution_count": 4,
   "id": "ae5274de",
   "metadata": {},
   "outputs": [],
   "source": [
    "data['date']=p.to_datetime(data['date'],format=\"%Y%m%d\")"
   ]
  },
  {
   "cell_type": "code",
   "execution_count": 5,
   "id": "eb8c4a6a",
   "metadata": {},
   "outputs": [],
   "source": [
    "#data['date']=p.to_datetime(data['date'])\n",
    "#data['dob']=p.to_datetime(data['dob'],format='%Y%m%d')"
   ]
  },
  {
   "cell_type": "code",
   "execution_count": 6,
   "id": "379d5ead",
   "metadata": {},
   "outputs": [],
   "source": [
    "#p.to_datetime(data['date'],format='%Y%m%d')"
   ]
  },
  {
   "cell_type": "code",
   "execution_count": 7,
   "id": "2270f429",
   "metadata": {},
   "outputs": [
    {
     "data": {
      "text/html": [
       "<div>\n",
       "<style scoped>\n",
       "    .dataframe tbody tr th:only-of-type {\n",
       "        vertical-align: middle;\n",
       "    }\n",
       "\n",
       "    .dataframe tbody tr th {\n",
       "        vertical-align: top;\n",
       "    }\n",
       "\n",
       "    .dataframe thead th {\n",
       "        text-align: right;\n",
       "    }\n",
       "</style>\n",
       "<table border=\"1\" class=\"dataframe\">\n",
       "  <thead>\n",
       "    <tr style=\"text-align: right;\">\n",
       "      <th></th>\n",
       "      <th>record</th>\n",
       "      <th>date</th>\n",
       "      <th>ssn</th>\n",
       "      <th>firstname</th>\n",
       "      <th>lastname</th>\n",
       "      <th>address</th>\n",
       "      <th>zip5</th>\n",
       "      <th>dob</th>\n",
       "      <th>homephone</th>\n",
       "      <th>fraud_label</th>\n",
       "    </tr>\n",
       "  </thead>\n",
       "  <tbody>\n",
       "    <tr>\n",
       "      <th>999995</th>\n",
       "      <td>999996</td>\n",
       "      <td>2016-12-31</td>\n",
       "      <td>766104848</td>\n",
       "      <td>XUSAAURMZ</td>\n",
       "      <td>EJXXEXZX</td>\n",
       "      <td>8079 EJRUJ AVE</td>\n",
       "      <td>54890</td>\n",
       "      <td>19550418</td>\n",
       "      <td>8236558223</td>\n",
       "      <td>0</td>\n",
       "    </tr>\n",
       "    <tr>\n",
       "      <th>999996</th>\n",
       "      <td>999997</td>\n",
       "      <td>2016-12-31</td>\n",
       "      <td>445178058</td>\n",
       "      <td>SAAJJEMTX</td>\n",
       "      <td>UMAUETJX</td>\n",
       "      <td>4817 UMSXT AVE</td>\n",
       "      <td>74683</td>\n",
       "      <td>19150624</td>\n",
       "      <td>6790134432</td>\n",
       "      <td>0</td>\n",
       "    </tr>\n",
       "    <tr>\n",
       "      <th>999997</th>\n",
       "      <td>999998</td>\n",
       "      <td>2016-12-31</td>\n",
       "      <td>25283410</td>\n",
       "      <td>ESRXXRSUX</td>\n",
       "      <td>EUEJRJJE</td>\n",
       "      <td>7562 RJMAZ ST</td>\n",
       "      <td>86805</td>\n",
       "      <td>19880628</td>\n",
       "      <td>3997657622</td>\n",
       "      <td>0</td>\n",
       "    </tr>\n",
       "    <tr>\n",
       "      <th>999998</th>\n",
       "      <td>999999</td>\n",
       "      <td>2016-12-31</td>\n",
       "      <td>361232148</td>\n",
       "      <td>XXMZSRXMA</td>\n",
       "      <td>RSRSUJSS</td>\n",
       "      <td>3408 UZZAM WY</td>\n",
       "      <td>49183</td>\n",
       "      <td>20120302</td>\n",
       "      <td>5935293731</td>\n",
       "      <td>0</td>\n",
       "    </tr>\n",
       "    <tr>\n",
       "      <th>999999</th>\n",
       "      <td>1000000</td>\n",
       "      <td>2016-12-31</td>\n",
       "      <td>40027083</td>\n",
       "      <td>RXZXSMEZA</td>\n",
       "      <td>UTEAAZXU</td>\n",
       "      <td>112 UTTJT PL</td>\n",
       "      <td>39491</td>\n",
       "      <td>19820826</td>\n",
       "      <td>5869926905</td>\n",
       "      <td>0</td>\n",
       "    </tr>\n",
       "  </tbody>\n",
       "</table>\n",
       "</div>"
      ],
      "text/plain": [
       "         record       date        ssn  firstname  lastname         address  \\\n",
       "999995   999996 2016-12-31  766104848  XUSAAURMZ  EJXXEXZX  8079 EJRUJ AVE   \n",
       "999996   999997 2016-12-31  445178058  SAAJJEMTX  UMAUETJX  4817 UMSXT AVE   \n",
       "999997   999998 2016-12-31   25283410  ESRXXRSUX  EUEJRJJE   7562 RJMAZ ST   \n",
       "999998   999999 2016-12-31  361232148  XXMZSRXMA  RSRSUJSS   3408 UZZAM WY   \n",
       "999999  1000000 2016-12-31   40027083  RXZXSMEZA  UTEAAZXU    112 UTTJT PL   \n",
       "\n",
       "         zip5       dob   homephone  fraud_label  \n",
       "999995  54890  19550418  8236558223            0  \n",
       "999996  74683  19150624  6790134432            0  \n",
       "999997  86805  19880628  3997657622            0  \n",
       "999998  49183  20120302  5935293731            0  \n",
       "999999  39491  19820826  5869926905            0  "
      ]
     },
     "execution_count": 7,
     "metadata": {},
     "output_type": "execute_result"
    }
   ],
   "source": [
    "data.tail()"
   ]
  },
  {
   "cell_type": "code",
   "execution_count": 8,
   "id": "08535216",
   "metadata": {
    "scrolled": true
   },
   "outputs": [
    {
     "name": "stdout",
     "output_type": "stream",
     "text": [
      "<class 'pandas.core.frame.DataFrame'>\n",
      "RangeIndex: 1000000 entries, 0 to 999999\n",
      "Data columns (total 10 columns):\n",
      " #   Column       Non-Null Count    Dtype         \n",
      "---  ------       --------------    -----         \n",
      " 0   record       1000000 non-null  int64         \n",
      " 1   date         1000000 non-null  datetime64[ns]\n",
      " 2   ssn          1000000 non-null  int64         \n",
      " 3   firstname    1000000 non-null  object        \n",
      " 4   lastname     1000000 non-null  object        \n",
      " 5   address      1000000 non-null  object        \n",
      " 6   zip5         1000000 non-null  int64         \n",
      " 7   dob          1000000 non-null  int64         \n",
      " 8   homephone    1000000 non-null  int64         \n",
      " 9   fraud_label  1000000 non-null  int64         \n",
      "dtypes: datetime64[ns](1), int64(6), object(3)\n",
      "memory usage: 76.3+ MB\n"
     ]
    }
   ],
   "source": [
    "data.info()"
   ]
  },
  {
   "cell_type": "markdown",
   "id": "72e80717",
   "metadata": {},
   "source": [
    "### Sorting dataframe by date of application"
   ]
  },
  {
   "cell_type": "code",
   "execution_count": 9,
   "id": "0752c1d5",
   "metadata": {},
   "outputs": [],
   "source": [
    "#data=data.sort_values(by='date',axis=0)"
   ]
  },
  {
   "cell_type": "code",
   "execution_count": 10,
   "id": "b4603f71",
   "metadata": {
    "scrolled": true
   },
   "outputs": [
    {
     "data": {
      "text/html": [
       "<div>\n",
       "<style scoped>\n",
       "    .dataframe tbody tr th:only-of-type {\n",
       "        vertical-align: middle;\n",
       "    }\n",
       "\n",
       "    .dataframe tbody tr th {\n",
       "        vertical-align: top;\n",
       "    }\n",
       "\n",
       "    .dataframe thead th {\n",
       "        text-align: right;\n",
       "    }\n",
       "</style>\n",
       "<table border=\"1\" class=\"dataframe\">\n",
       "  <thead>\n",
       "    <tr style=\"text-align: right;\">\n",
       "      <th></th>\n",
       "      <th>record</th>\n",
       "      <th>date</th>\n",
       "      <th>ssn</th>\n",
       "      <th>firstname</th>\n",
       "      <th>lastname</th>\n",
       "      <th>address</th>\n",
       "      <th>zip5</th>\n",
       "      <th>dob</th>\n",
       "      <th>homephone</th>\n",
       "      <th>fraud_label</th>\n",
       "    </tr>\n",
       "  </thead>\n",
       "  <tbody>\n",
       "    <tr>\n",
       "      <th>0</th>\n",
       "      <td>1</td>\n",
       "      <td>2016-01-01</td>\n",
       "      <td>379070012</td>\n",
       "      <td>XRRAMMTR</td>\n",
       "      <td>SMJETJMJ</td>\n",
       "      <td>6861 EUTST PL</td>\n",
       "      <td>2765</td>\n",
       "      <td>19070626</td>\n",
       "      <td>1797504115</td>\n",
       "      <td>0</td>\n",
       "    </tr>\n",
       "    <tr>\n",
       "      <th>1</th>\n",
       "      <td>2</td>\n",
       "      <td>2016-01-01</td>\n",
       "      <td>387482503</td>\n",
       "      <td>MAMSTUJR</td>\n",
       "      <td>RTTEMRRR</td>\n",
       "      <td>7280 URASA PL</td>\n",
       "      <td>57169</td>\n",
       "      <td>19340615</td>\n",
       "      <td>4164239415</td>\n",
       "      <td>1</td>\n",
       "    </tr>\n",
       "    <tr>\n",
       "      <th>2</th>\n",
       "      <td>3</td>\n",
       "      <td>2016-01-01</td>\n",
       "      <td>200332444</td>\n",
       "      <td>SZMMUJEZS</td>\n",
       "      <td>EUSEZRAE</td>\n",
       "      <td>5581 RSREX LN</td>\n",
       "      <td>56721</td>\n",
       "      <td>19070626</td>\n",
       "      <td>216537580</td>\n",
       "      <td>0</td>\n",
       "    </tr>\n",
       "    <tr>\n",
       "      <th>3</th>\n",
       "      <td>4</td>\n",
       "      <td>2016-01-01</td>\n",
       "      <td>747451317</td>\n",
       "      <td>SJJZSXRSZ</td>\n",
       "      <td>ETJXTXXS</td>\n",
       "      <td>1387 UJZXJ RD</td>\n",
       "      <td>35286</td>\n",
       "      <td>19440430</td>\n",
       "      <td>132144161</td>\n",
       "      <td>0</td>\n",
       "    </tr>\n",
       "    <tr>\n",
       "      <th>4</th>\n",
       "      <td>5</td>\n",
       "      <td>2016-01-01</td>\n",
       "      <td>24065868</td>\n",
       "      <td>SSSXUEJMS</td>\n",
       "      <td>SSUUJXUZ</td>\n",
       "      <td>279 EAASA WY</td>\n",
       "      <td>3173</td>\n",
       "      <td>19980315</td>\n",
       "      <td>6101082272</td>\n",
       "      <td>0</td>\n",
       "    </tr>\n",
       "  </tbody>\n",
       "</table>\n",
       "</div>"
      ],
      "text/plain": [
       "   record       date        ssn  firstname  lastname        address   zip5  \\\n",
       "0       1 2016-01-01  379070012   XRRAMMTR  SMJETJMJ  6861 EUTST PL   2765   \n",
       "1       2 2016-01-01  387482503   MAMSTUJR  RTTEMRRR  7280 URASA PL  57169   \n",
       "2       3 2016-01-01  200332444  SZMMUJEZS  EUSEZRAE  5581 RSREX LN  56721   \n",
       "3       4 2016-01-01  747451317  SJJZSXRSZ  ETJXTXXS  1387 UJZXJ RD  35286   \n",
       "4       5 2016-01-01   24065868  SSSXUEJMS  SSUUJXUZ   279 EAASA WY   3173   \n",
       "\n",
       "        dob   homephone  fraud_label  \n",
       "0  19070626  1797504115            0  \n",
       "1  19340615  4164239415            1  \n",
       "2  19070626   216537580            0  \n",
       "3  19440430   132144161            0  \n",
       "4  19980315  6101082272            0  "
      ]
     },
     "execution_count": 10,
     "metadata": {},
     "output_type": "execute_result"
    }
   ],
   "source": [
    "data.head()"
   ]
  },
  {
   "cell_type": "code",
   "execution_count": 11,
   "id": "ed93558d",
   "metadata": {},
   "outputs": [],
   "source": [
    "data['zip5']=data['zip5'].apply(lambda x:'{0:0>5}'.format(x)) # this adds a missing zero in front. so 2765 becomes 02765."
   ]
  },
  {
   "cell_type": "markdown",
   "id": "59a8dd3c",
   "metadata": {},
   "source": [
    "### Removing Frivolous data\n",
    "#### SSN"
   ]
  },
  {
   "cell_type": "code",
   "execution_count": 12,
   "id": "85150b64",
   "metadata": {},
   "outputs": [],
   "source": [
    "data.loc[data['ssn']==999999999,'ssn']=-data[data['ssn']==999999999]['record']\n",
    "data['ssn']=data['ssn'].apply(lambda x: '{0:0>9}'.format(x))"
   ]
  },
  {
   "cell_type": "markdown",
   "id": "064c89d5",
   "metadata": {},
   "source": [
    "#### Address"
   ]
  },
  {
   "cell_type": "code",
   "execution_count": 13,
   "id": "7afd6ab3",
   "metadata": {},
   "outputs": [],
   "source": [
    "data.loc[data['address']=='123 MAIN ST','address']=data.loc[data['address']=='123 MAIN ST','record'].apply(lambda x: str(x))"
   ]
  },
  {
   "cell_type": "markdown",
   "id": "1ad28dba",
   "metadata": {},
   "source": [
    "#### Date of Birth"
   ]
  },
  {
   "cell_type": "code",
   "execution_count": 14,
   "id": "c6714200",
   "metadata": {},
   "outputs": [],
   "source": [
    "data.loc[data['dob']==19070626,'dob']=-data.loc[data['dob']==19070626,'record']\n",
    "data['dob']=data['dob'].apply(lambda x: '{0:0>8}'.format(x))"
   ]
  },
  {
   "cell_type": "markdown",
   "id": "f4f4f6a2",
   "metadata": {},
   "source": [
    "#### Homephone"
   ]
  },
  {
   "cell_type": "code",
   "execution_count": 15,
   "id": "5eee63c2",
   "metadata": {},
   "outputs": [],
   "source": [
    "data.loc[data['homephone']==9999999999,'homephone']=-data.loc[data['homephone']==9999999999,'record']\n",
    "data['homephone']=data['homephone'].apply(lambda x: '{0:0>10}'.format(x))"
   ]
  },
  {
   "cell_type": "markdown",
   "id": "bdf9fa0b",
   "metadata": {},
   "source": [
    "### Day of Week"
   ]
  },
  {
   "cell_type": "code",
   "execution_count": 16,
   "id": "59dd2dca",
   "metadata": {},
   "outputs": [],
   "source": [
    "data['dow']=data['date'].dt.day_name()"
   ]
  },
  {
   "cell_type": "code",
   "execution_count": 17,
   "id": "b11e74bb",
   "metadata": {},
   "outputs": [
    {
     "name": "stdout",
     "output_type": "stream",
     "text": [
      "<class 'pandas.core.frame.DataFrame'>\n",
      "RangeIndex: 1000000 entries, 0 to 999999\n",
      "Data columns (total 11 columns):\n",
      " #   Column       Non-Null Count    Dtype         \n",
      "---  ------       --------------    -----         \n",
      " 0   record       1000000 non-null  int64         \n",
      " 1   date         1000000 non-null  datetime64[ns]\n",
      " 2   ssn          1000000 non-null  object        \n",
      " 3   firstname    1000000 non-null  object        \n",
      " 4   lastname     1000000 non-null  object        \n",
      " 5   address      1000000 non-null  object        \n",
      " 6   zip5         1000000 non-null  object        \n",
      " 7   dob          1000000 non-null  object        \n",
      " 8   homephone    1000000 non-null  object        \n",
      " 9   fraud_label  1000000 non-null  int64         \n",
      " 10  dow          1000000 non-null  object        \n",
      "dtypes: datetime64[ns](1), int64(2), object(8)\n",
      "memory usage: 83.9+ MB\n"
     ]
    }
   ],
   "source": [
    "data.info()"
   ]
  },
  {
   "cell_type": "code",
   "execution_count": 18,
   "id": "f4505c58",
   "metadata": {},
   "outputs": [],
   "source": [
    "# data.ssn=str(data.ssn)\n",
    "# data.zip5=str(data.zip5)\n",
    "# data.dob=str(data.dob)\n",
    "# data.homephone=str(data.homephone)"
   ]
  },
  {
   "cell_type": "markdown",
   "id": "5056ce84",
   "metadata": {},
   "source": [
    "### Training data"
   ]
  },
  {
   "cell_type": "code",
   "execution_count": 19,
   "id": "456a7595",
   "metadata": {},
   "outputs": [],
   "source": [
    "train=data[data.date<'2016-11-01']"
   ]
  },
  {
   "cell_type": "markdown",
   "id": "961923ee",
   "metadata": {},
   "source": [
    "### Target Encoding"
   ]
  },
  {
   "cell_type": "code",
   "execution_count": 20,
   "id": "9d123206",
   "metadata": {},
   "outputs": [],
   "source": [
    "c=4\n",
    "nmid=20\n",
    "y_avg=train['fraud_label'].mean()\n",
    "y_dow=train.groupby('dow')['fraud_label'].mean()\n",
    "num=train.groupby('dow').size()\n",
    "y_dow_smooth=y_avg+(y_dow-y_avg)/(1+n.exp(-(num-nmid)/c))\n",
    "data['dow_risk']=data.date.map(y_dow_smooth)"
   ]
  },
  {
   "cell_type": "code",
   "execution_count": 21,
   "id": "01f2032f",
   "metadata": {},
   "outputs": [],
   "source": [
    "y_dow=y_dow.reset_index()\n",
    "cats=['Monday','Tuesday','Wednesday','Thursday','Friday','Saturday','Sunday']\n",
    "y_dow['dow']=p.Categorical(y_dow['dow'],categories=cats,ordered=True)\n",
    "y_dow=y_dow.sort_values('dow')\n",
    "y_dow=y_dow.set_index('dow')"
   ]
  },
  {
   "cell_type": "markdown",
   "id": "4ebb991c",
   "metadata": {},
   "source": [
    "### Variables"
   ]
  },
  {
   "cell_type": "code",
   "execution_count": 22,
   "id": "d001b97c",
   "metadata": {},
   "outputs": [
    {
     "name": "stdout",
     "output_type": "stream",
     "text": [
      "time taken 0.009210582574208577\n"
     ]
    }
   ],
   "source": [
    "begin=time.time()\n",
    "\n",
    "data['name']=data.firstname+data.lastname\n",
    "data['fulladdress']=data.address+data.zip5\n",
    "data['name_dob']=data.name+data.dob\n",
    "data['name_fulladdress']=data.name+data.fulladdress\n",
    "data['name_homephone']=data.name+data.homephone\n",
    "data['fulladdress_dob']=data.fulladdress+data.dob\n",
    "data['fulladdress_homephone']=data.fulladdress+data.homephone\n",
    "data['dob_homephone']=data.dob+data.homephone\n",
    "data['homephone_name_dob']=data.homephone+data.name_dob\n",
    "\n",
    "print(\"time taken\",(time.time()-begin)/60)"
   ]
  },
  {
   "cell_type": "code",
   "execution_count": 23,
   "id": "6ce15238",
   "metadata": {},
   "outputs": [
    {
     "data": {
      "text/plain": [
       "Index(['record', 'date', 'ssn', 'firstname', 'lastname', 'address', 'zip5',\n",
       "       'dob', 'homephone', 'fraud_label', 'dow', 'dow_risk', 'name',\n",
       "       'fulladdress', 'name_dob', 'name_fulladdress', 'name_homephone',\n",
       "       'fulladdress_dob', 'fulladdress_homephone', 'dob_homephone',\n",
       "       'homephone_name_dob'],\n",
       "      dtype='object')"
      ]
     },
     "execution_count": 23,
     "metadata": {},
     "output_type": "execute_result"
    }
   ],
   "source": [
    "data.columns"
   ]
  },
  {
   "cell_type": "code",
   "execution_count": 24,
   "id": "dc12fe1a",
   "metadata": {},
   "outputs": [],
   "source": [
    "for field in list(data.iloc[:,n.r_[3:9,12:15]].columns):\n",
    "    data['ssn_'+field]=data.ssn+data[field]"
   ]
  },
  {
   "cell_type": "code",
   "execution_count": 25,
   "id": "cfe1a1c3",
   "metadata": {},
   "outputs": [
    {
     "data": {
      "text/plain": [
       "Index(['record', 'date', 'ssn', 'firstname', 'lastname', 'address', 'zip5',\n",
       "       'dob', 'homephone', 'fraud_label', 'dow', 'dow_risk', 'name',\n",
       "       'fulladdress', 'name_dob', 'name_fulladdress', 'name_homephone',\n",
       "       'fulladdress_dob', 'fulladdress_homephone', 'dob_homephone',\n",
       "       'homephone_name_dob', 'ssn_firstname', 'ssn_lastname', 'ssn_address',\n",
       "       'ssn_zip5', 'ssn_dob', 'ssn_homephone', 'ssn_name', 'ssn_fulladdress',\n",
       "       'ssn_name_dob'],\n",
       "      dtype='object')"
      ]
     },
     "execution_count": 25,
     "metadata": {},
     "output_type": "execute_result"
    }
   ],
   "source": [
    "data.columns"
   ]
  },
  {
   "cell_type": "code",
   "execution_count": 26,
   "id": "22a4c122",
   "metadata": {},
   "outputs": [],
   "source": [
    "attributes=list(data.iloc[:,n.r_[2,5,7,8,12:30]].columns)"
   ]
  },
  {
   "cell_type": "code",
   "execution_count": 27,
   "id": "b639b718",
   "metadata": {},
   "outputs": [
    {
     "data": {
      "text/plain": [
       "['ssn',\n",
       " 'address',\n",
       " 'dob',\n",
       " 'homephone',\n",
       " 'name',\n",
       " 'fulladdress',\n",
       " 'name_dob',\n",
       " 'name_fulladdress',\n",
       " 'name_homephone',\n",
       " 'fulladdress_dob',\n",
       " 'fulladdress_homephone',\n",
       " 'dob_homephone',\n",
       " 'homephone_name_dob',\n",
       " 'ssn_firstname',\n",
       " 'ssn_lastname',\n",
       " 'ssn_address',\n",
       " 'ssn_zip5',\n",
       " 'ssn_dob',\n",
       " 'ssn_homephone',\n",
       " 'ssn_name',\n",
       " 'ssn_fulladdress',\n",
       " 'ssn_name_dob']"
      ]
     },
     "execution_count": 27,
     "metadata": {},
     "output_type": "execute_result"
    }
   ],
   "source": [
    "attributes"
   ]
  },
  {
   "cell_type": "code",
   "execution_count": 28,
   "id": "b531ddd9",
   "metadata": {},
   "outputs": [
    {
     "data": {
      "text/plain": [
       "(1000000, 30)"
      ]
     },
     "execution_count": 28,
     "metadata": {},
     "output_type": "execute_result"
    }
   ],
   "source": [
    "data1=data.copy()\n",
    "vars=data.copy()\n",
    "data1['check_date']=data1.date\n",
    "data1['check_record']=data1.record\n",
    "vars.shape"
   ]
  },
  {
   "cell_type": "code",
   "execution_count": 29,
   "id": "4f22efef",
   "metadata": {},
   "outputs": [],
   "source": [
    "#print(q)"
   ]
  },
  {
   "cell_type": "code",
   "execution_count": 30,
   "id": "ede8898c",
   "metadata": {},
   "outputs": [],
   "source": [
    "# d1=data1[['record','date','ssn']]\n",
    "# dr=data1[['check_record','check_date','ssn']]\n",
    "\n",
    "# temp=p.merge(d1,dr,left_on='ssn',right_on='ssn')\n",
    "# temp1=data1[['record','date','check_record','check_date','ssn']]\n"
   ]
  },
  {
   "cell_type": "code",
   "execution_count": 31,
   "id": "61053389",
   "metadata": {},
   "outputs": [],
   "source": [
    "# dr.shape"
   ]
  },
  {
   "cell_type": "code",
   "execution_count": 32,
   "id": "c92a1cb1",
   "metadata": {},
   "outputs": [],
   "source": [
    "# temp.equals(temp1)"
   ]
  },
  {
   "cell_type": "code",
   "execution_count": 33,
   "id": "1ce5edeb",
   "metadata": {},
   "outputs": [],
   "source": [
    "# temp.shape"
   ]
  },
  {
   "cell_type": "code",
   "execution_count": 34,
   "id": "a6aee3c0",
   "metadata": {},
   "outputs": [],
   "source": [
    "# temp1.shape"
   ]
  },
  {
   "cell_type": "code",
   "execution_count": 35,
   "id": "79c28bf6",
   "metadata": {},
   "outputs": [],
   "source": [
    "# day_since=temp[temp.record>temp.check_record][['record','date','check_date']]\\\n",
    "#                 .groupby('record')[['date','check_date']].last()\n",
    "    "
   ]
  },
  {
   "cell_type": "code",
   "execution_count": 36,
   "id": "e8042aaa",
   "metadata": {},
   "outputs": [
    {
     "data": {
      "text/plain": [
       "['ssn',\n",
       " 'address',\n",
       " 'dob',\n",
       " 'homephone',\n",
       " 'name',\n",
       " 'fulladdress',\n",
       " 'name_dob',\n",
       " 'name_fulladdress',\n",
       " 'name_homephone',\n",
       " 'fulladdress_dob',\n",
       " 'fulladdress_homephone',\n",
       " 'dob_homephone',\n",
       " 'homephone_name_dob',\n",
       " 'ssn_firstname',\n",
       " 'ssn_lastname',\n",
       " 'ssn_address',\n",
       " 'ssn_zip5',\n",
       " 'ssn_dob',\n",
       " 'ssn_homephone',\n",
       " 'ssn_name',\n",
       " 'ssn_fulladdress',\n",
       " 'ssn_name_dob']"
      ]
     },
     "execution_count": 36,
     "metadata": {},
     "output_type": "execute_result"
    }
   ],
   "source": [
    "attributes"
   ]
  },
  {
   "cell_type": "code",
   "execution_count": 37,
   "id": "fad835c5",
   "metadata": {},
   "outputs": [],
   "source": [
    "# yy"
   ]
  },
  {
   "cell_type": "markdown",
   "id": "95a150da",
   "metadata": {},
   "source": [
    "### Velocity and since days"
   ]
  },
  {
   "cell_type": "code",
   "execution_count": 38,
   "id": "91763e21",
   "metadata": {
    "scrolled": true
   },
   "outputs": [
    {
     "name": "stdout",
     "output_type": "stream",
     "text": [
      "ssn\n",
      "ssn  done\n",
      "address\n",
      "address  done\n",
      "dob\n",
      "dob  done\n",
      "homephone\n",
      "homephone  done\n",
      "name\n",
      "name  done\n",
      "fulladdress\n",
      "fulladdress  done\n",
      "name_dob\n",
      "name_dob  done\n",
      "name_fulladdress\n",
      "name_fulladdress  done\n",
      "name_homephone\n",
      "name_homephone  done\n",
      "fulladdress_dob\n",
      "fulladdress_dob  done\n",
      "fulladdress_homephone\n",
      "fulladdress_homephone  done\n",
      "dob_homephone\n",
      "dob_homephone  done\n",
      "homephone_name_dob\n"
     ]
    },
    {
     "name": "stderr",
     "output_type": "stream",
     "text": [
      "/var/folders/ws/jfyqgcz57_374tjld1g6w96m0000gn/T/ipykernel_9190/392742919.py:16: PerformanceWarning: DataFrame is highly fragmented.  This is usually the result of calling `frame.insert` many times, which has poor performance.  Consider joining all columns at once using pd.concat(axis=1) instead.  To get a de-fragmented frame, use `newframe = frame.copy()`\n",
      "  vars[e+'_day_since']=vars.record.map(mapper)\n",
      "/var/folders/ws/jfyqgcz57_374tjld1g6w96m0000gn/T/ipykernel_9190/392742919.py:26: PerformanceWarning: DataFrame is highly fragmented.  This is usually the result of calling `frame.insert` many times, which has poor performance.  Consider joining all columns at once using pd.concat(axis=1) instead.  To get a de-fragmented frame, use `newframe = frame.copy()`\n",
      "  vars[col_name]=vars.record.map(mapper2)\n"
     ]
    },
    {
     "name": "stdout",
     "output_type": "stream",
     "text": [
      "homephone_name_dob  done\n",
      "ssn_firstname\n",
      "ssn_firstname  done\n",
      "ssn_lastname\n",
      "ssn_lastname  done\n",
      "ssn_address\n",
      "ssn_address  done\n",
      "ssn_zip5\n",
      "ssn_zip5  done\n",
      "ssn_dob\n",
      "ssn_dob  done\n",
      "ssn_homephone\n",
      "ssn_homephone  done\n",
      "ssn_name\n",
      "ssn_name  done\n",
      "ssn_fulladdress\n",
      "ssn_fulladdress  done\n",
      "ssn_name_dob\n",
      "ssn_name_dob  done\n",
      "time taken 1.3105865200360616\n"
     ]
    }
   ],
   "source": [
    "# z=['ssn']  #replace z by attributes\n",
    "begin=time.time()\n",
    "for e in attributes:\n",
    "    print(e)\n",
    "    d1=data1[['record','date',e]]\n",
    "    dr=data1[['check_record','check_date',e]]\n",
    "    temp=p.merge(d1,dr,left_on=e,right_on=e)\n",
    "    #temp=data1[['record','date','check_record','check_date',e]]\n",
    "    #print(\"merged\")\n",
    "    #day since\n",
    "    day_since=temp[temp.record>temp.check_record][['record','date','check_date']]\\\n",
    "                .groupby('record')[['date','check_date']].last()\n",
    "    \n",
    "    #print(\"day_since\")\n",
    "    mapper=(day_since.date-day_since.check_date).dt.days\n",
    "    vars[e+'_day_since']=vars.record.map(mapper)\n",
    "    vars[e+'_day_since'].fillna(365,inplace=True)\n",
    "    #print(\"velocity begins\")\n",
    "    #velocity\n",
    "    for t in [0,1,3,7,14,30,45]: #\n",
    "        count_day=temp[(temp.check_date >= (temp.date-dt.timedelta(t)))\n",
    "                        & (temp.record >= temp.check_record)]\n",
    "        col_name=f'{e}_count_{t}'\n",
    "        #print(count_day)\n",
    "        mapper2=count_day.groupby('record')[e].count()\n",
    "        vars[col_name]=vars.record.map(mapper2)\n",
    "    print(e,\" done\")\n",
    "print(\"time taken\",(time.time()-begin)/60)      "
   ]
  },
  {
   "cell_type": "code",
   "execution_count": 39,
   "id": "4155b2fd",
   "metadata": {},
   "outputs": [],
   "source": [
    "#vars.head(3)"
   ]
  },
  {
   "cell_type": "markdown",
   "id": "f786d45f",
   "metadata": {},
   "source": [
    "### Relative velocity"
   ]
  },
  {
   "cell_type": "code",
   "execution_count": 40,
   "id": "1a22a504",
   "metadata": {},
   "outputs": [
    {
     "name": "stderr",
     "output_type": "stream",
     "text": [
      "/var/folders/ws/jfyqgcz57_374tjld1g6w96m0000gn/T/ipykernel_9190/1015487776.py:5: PerformanceWarning: DataFrame is highly fragmented.  This is usually the result of calling `frame.insert` many times, which has poor performance.  Consider joining all columns at once using pd.concat(axis=1) instead.  To get a de-fragmented frame, use `newframe = frame.copy()`\n",
      "  vars[t+'_count_'+d+'_by_'+dd]= vars[t+'_count_'+d]/(vars[t+'_count_'+dd]/float(dd))\n"
     ]
    },
    {
     "name": "stdout",
     "output_type": "stream",
     "text": [
      "time taken 0.016109168529510498\n"
     ]
    }
   ],
   "source": [
    "begin=time.time()\n",
    "for t in attributes:\n",
    "    for d in ['0','1']:\n",
    "        for dd in ['3','7','14','30','45']:\n",
    "            vars[t+'_count_'+d+'_by_'+dd]= vars[t+'_count_'+d]/(vars[t+'_count_'+dd]/float(dd))\n",
    "print(\"time taken\",(time.time()-begin)/60)            "
   ]
  },
  {
   "cell_type": "code",
   "execution_count": 41,
   "id": "c2a110eb",
   "metadata": {},
   "outputs": [],
   "source": [
    "# attributes.remove('address')\n",
    "# attributes.remove('dob')\n",
    "# attributes.remove('name')\n",
    "# attributes.remove('ssn_address')\n",
    "# attributes.remove('homephone')\n",
    "# attributes.remove('name_homephone')\n",
    "# attributes.remove('fulladdress_homephone')\n",
    "# attributes.remove('homephone_name_dob')\n",
    "# attributes.remove('ssn_homephone')\n",
    "# attributes.remove('ssn_firstname')\n",
    "# attributes.remove('ssn_dob')"
   ]
  },
  {
   "cell_type": "code",
   "execution_count": 42,
   "id": "b89ca8ed",
   "metadata": {},
   "outputs": [
    {
     "data": {
      "text/plain": [
       "['ssn',\n",
       " 'address',\n",
       " 'dob',\n",
       " 'homephone',\n",
       " 'name',\n",
       " 'fulladdress',\n",
       " 'name_dob',\n",
       " 'name_fulladdress',\n",
       " 'name_homephone',\n",
       " 'fulladdress_dob',\n",
       " 'fulladdress_homephone',\n",
       " 'dob_homephone',\n",
       " 'homephone_name_dob',\n",
       " 'ssn_firstname',\n",
       " 'ssn_lastname',\n",
       " 'ssn_address',\n",
       " 'ssn_zip5',\n",
       " 'ssn_dob',\n",
       " 'ssn_homephone',\n",
       " 'ssn_name',\n",
       " 'ssn_fulladdress',\n",
       " 'ssn_name_dob']"
      ]
     },
     "execution_count": 42,
     "metadata": {},
     "output_type": "execute_result"
    }
   ],
   "source": [
    "attributes"
   ]
  },
  {
   "cell_type": "code",
   "execution_count": 53,
   "id": "2a655f51",
   "metadata": {},
   "outputs": [
    {
     "data": {
      "text/plain": [
       "22"
      ]
     },
     "execution_count": 53,
     "metadata": {},
     "output_type": "execute_result"
    }
   ],
   "source": [
    "len(attributes)"
   ]
  },
  {
   "cell_type": "markdown",
   "id": "8ed26b56",
   "metadata": {},
   "source": [
    "### Count by entities"
   ]
  },
  {
   "cell_type": "code",
   "execution_count": 43,
   "id": "c2e338ab",
   "metadata": {},
   "outputs": [
    {
     "name": "stderr",
     "output_type": "stream",
     "text": [
      "/var/folders/ws/jfyqgcz57_374tjld1g6w96m0000gn/T/ipykernel_9190/917857119.py:16: PerformanceWarning: DataFrame is highly fragmented.  This is usually the result of calling `frame.insert` many times, which has poor performance.  Consider joining all columns at once using pd.concat(axis=1) instead.  To get a de-fragmented frame, use `newframe = frame.copy()`\n",
      "  vars[colname]=vars.record.map(mapper)\n"
     ]
    },
    {
     "name": "stdout",
     "output_type": "stream",
     "text": [
      "internal loop  address  done\n",
      "internal loop  dob  done\n",
      "internal loop  homephone  done\n",
      "internal loop  name  done\n",
      "internal loop  fulladdress  done\n",
      "internal loop  name_dob  done\n",
      "internal loop  name_fulladdress  done\n",
      "internal loop  name_homephone  done\n",
      "internal loop  fulladdress_dob  done\n",
      "internal loop  fulladdress_homephone  done\n",
      "internal loop  dob_homephone  done\n",
      "internal loop  homephone_name_dob  done\n",
      "internal loop  ssn_firstname  done\n",
      "internal loop  ssn_lastname  done\n",
      "internal loop  ssn_address  done\n",
      "internal loop  ssn_zip5  done\n",
      "internal loop  ssn_dob  done\n",
      "internal loop  ssn_homephone  done\n",
      "internal loop  ssn_name  done\n",
      "internal loop  ssn_fulladdress  done\n",
      "internal loop  ssn_name_dob  done\n",
      "outer loop  ssn  done\n",
      "internal loop  ssn  done\n",
      "internal loop  dob  done\n",
      "internal loop  homephone  done\n",
      "internal loop  name  done\n",
      "internal loop  fulladdress  done\n",
      "internal loop  name_dob  done\n",
      "internal loop  name_fulladdress  done\n",
      "internal loop  name_homephone  done\n",
      "internal loop  fulladdress_dob  done\n",
      "internal loop  fulladdress_homephone  done\n",
      "internal loop  dob_homephone  done\n",
      "internal loop  homephone_name_dob  done\n",
      "internal loop  ssn_firstname  done\n",
      "internal loop  ssn_lastname  done\n",
      "internal loop  ssn_address  done\n",
      "internal loop  ssn_zip5  done\n",
      "internal loop  ssn_dob  done\n",
      "internal loop  ssn_homephone  done\n",
      "internal loop  ssn_name  done\n",
      "internal loop  ssn_fulladdress  done\n",
      "internal loop  ssn_name_dob  done\n",
      "outer loop  address  done\n",
      "internal loop  ssn  done\n",
      "internal loop  address  done\n",
      "internal loop  homephone  done\n",
      "internal loop  name  done\n",
      "internal loop  fulladdress  done\n",
      "internal loop  name_dob  done\n",
      "internal loop  name_fulladdress  done\n",
      "internal loop  name_homephone  done\n",
      "internal loop  fulladdress_dob  done\n",
      "internal loop  fulladdress_homephone  done\n",
      "internal loop  dob_homephone  done\n",
      "internal loop  homephone_name_dob  done\n",
      "internal loop  ssn_firstname  done\n",
      "internal loop  ssn_lastname  done\n",
      "internal loop  ssn_address  done\n",
      "internal loop  ssn_zip5  done\n",
      "internal loop  ssn_dob  done\n",
      "internal loop  ssn_homephone  done\n",
      "internal loop  ssn_name  done\n",
      "internal loop  ssn_fulladdress  done\n",
      "internal loop  ssn_name_dob  done\n",
      "outer loop  dob  done\n",
      "internal loop  ssn  done\n",
      "internal loop  address  done\n",
      "internal loop  dob  done\n",
      "internal loop  name  done\n",
      "internal loop  fulladdress  done\n",
      "internal loop  name_dob  done\n",
      "internal loop  name_fulladdress  done\n",
      "internal loop  name_homephone  done\n",
      "internal loop  fulladdress_dob  done\n",
      "internal loop  fulladdress_homephone  done\n",
      "internal loop  dob_homephone  done\n",
      "internal loop  homephone_name_dob  done\n",
      "internal loop  ssn_firstname  done\n",
      "internal loop  ssn_lastname  done\n",
      "internal loop  ssn_address  done\n",
      "internal loop  ssn_zip5  done\n",
      "internal loop  ssn_dob  done\n",
      "internal loop  ssn_homephone  done\n",
      "internal loop  ssn_name  done\n",
      "internal loop  ssn_fulladdress  done\n",
      "internal loop  ssn_name_dob  done\n",
      "outer loop  homephone  done\n",
      "internal loop  ssn  done\n",
      "internal loop  address  done\n",
      "internal loop  dob  done\n",
      "internal loop  homephone  done\n",
      "internal loop  fulladdress  done\n",
      "internal loop  name_dob  done\n",
      "internal loop  name_fulladdress  done\n",
      "internal loop  name_homephone  done\n",
      "internal loop  fulladdress_dob  done\n",
      "internal loop  fulladdress_homephone  done\n",
      "internal loop  dob_homephone  done\n",
      "internal loop  homephone_name_dob  done\n",
      "internal loop  ssn_firstname  done\n",
      "internal loop  ssn_lastname  done\n",
      "internal loop  ssn_address  done\n",
      "internal loop  ssn_zip5  done\n",
      "internal loop  ssn_dob  done\n",
      "internal loop  ssn_homephone  done\n",
      "internal loop  ssn_name  done\n",
      "internal loop  ssn_fulladdress  done\n",
      "internal loop  ssn_name_dob  done\n",
      "outer loop  name  done\n",
      "internal loop  ssn  done\n",
      "internal loop  address  done\n",
      "internal loop  dob  done\n",
      "internal loop  homephone  done\n",
      "internal loop  name  done\n",
      "internal loop  name_dob  done\n",
      "internal loop  name_fulladdress  done\n",
      "internal loop  name_homephone  done\n",
      "internal loop  fulladdress_dob  done\n",
      "internal loop  fulladdress_homephone  done\n",
      "internal loop  dob_homephone  done\n",
      "internal loop  homephone_name_dob  done\n",
      "internal loop  ssn_firstname  done\n",
      "internal loop  ssn_lastname  done\n",
      "internal loop  ssn_address  done\n",
      "internal loop  ssn_zip5  done\n",
      "internal loop  ssn_dob  done\n",
      "internal loop  ssn_homephone  done\n",
      "internal loop  ssn_name  done\n",
      "internal loop  ssn_fulladdress  done\n",
      "internal loop  ssn_name_dob  done\n",
      "outer loop  fulladdress  done\n",
      "internal loop  ssn  done\n",
      "internal loop  address  done\n",
      "internal loop  dob  done\n",
      "internal loop  homephone  done\n",
      "internal loop  name  done\n",
      "internal loop  fulladdress  done\n",
      "internal loop  name_fulladdress  done\n",
      "internal loop  name_homephone  done\n",
      "internal loop  fulladdress_dob  done\n",
      "internal loop  fulladdress_homephone  done\n",
      "internal loop  dob_homephone  done\n",
      "internal loop  homephone_name_dob  done\n",
      "internal loop  ssn_firstname  done\n",
      "internal loop  ssn_lastname  done\n",
      "internal loop  ssn_address  done\n",
      "internal loop  ssn_zip5  done\n",
      "internal loop  ssn_dob  done\n",
      "internal loop  ssn_homephone  done\n",
      "internal loop  ssn_name  done\n",
      "internal loop  ssn_fulladdress  done\n",
      "internal loop  ssn_name_dob  done\n",
      "outer loop  name_dob  done\n",
      "internal loop  ssn  done\n",
      "internal loop  address  done\n",
      "internal loop  dob  done\n",
      "internal loop  homephone  done\n",
      "internal loop  name  done\n",
      "internal loop  fulladdress  done\n",
      "internal loop  name_dob  done\n",
      "internal loop  name_homephone  done\n",
      "internal loop  fulladdress_dob  done\n",
      "internal loop  fulladdress_homephone  done\n",
      "internal loop  dob_homephone  done\n",
      "internal loop  homephone_name_dob  done\n",
      "internal loop  ssn_firstname  done\n",
      "internal loop  ssn_lastname  done\n",
      "internal loop  ssn_address  done\n",
      "internal loop  ssn_zip5  done\n",
      "internal loop  ssn_dob  done\n",
      "internal loop  ssn_homephone  done\n",
      "internal loop  ssn_name  done\n",
      "internal loop  ssn_fulladdress  done\n",
      "internal loop  ssn_name_dob  done\n",
      "outer loop  name_fulladdress  done\n",
      "internal loop  ssn  done\n",
      "internal loop  address  done\n",
      "internal loop  dob  done\n",
      "internal loop  homephone  done\n",
      "internal loop  name  done\n",
      "internal loop  fulladdress  done\n",
      "internal loop  name_dob  done\n",
      "internal loop  name_fulladdress  done\n",
      "internal loop  fulladdress_dob  done\n",
      "internal loop  fulladdress_homephone  done\n",
      "internal loop  dob_homephone  done\n",
      "internal loop  homephone_name_dob  done\n",
      "internal loop  ssn_firstname  done\n",
      "internal loop  ssn_lastname  done\n",
      "internal loop  ssn_address  done\n",
      "internal loop  ssn_zip5  done\n",
      "internal loop  ssn_dob  done\n",
      "internal loop  ssn_homephone  done\n",
      "internal loop  ssn_name  done\n",
      "internal loop  ssn_fulladdress  done\n",
      "internal loop  ssn_name_dob  done\n",
      "outer loop  name_homephone  done\n",
      "internal loop  ssn  done\n",
      "internal loop  address  done\n",
      "internal loop  dob  done\n",
      "internal loop  homephone  done\n",
      "internal loop  name  done\n",
      "internal loop  fulladdress  done\n",
      "internal loop  name_dob  done\n",
      "internal loop  name_fulladdress  done\n",
      "internal loop  name_homephone  done\n",
      "internal loop  fulladdress_homephone  done\n",
      "internal loop  dob_homephone  done\n",
      "internal loop  homephone_name_dob  done\n",
      "internal loop  ssn_firstname  done\n",
      "internal loop  ssn_lastname  done\n",
      "internal loop  ssn_address  done\n",
      "internal loop  ssn_zip5  done\n",
      "internal loop  ssn_dob  done\n",
      "internal loop  ssn_homephone  done\n",
      "internal loop  ssn_name  done\n",
      "internal loop  ssn_fulladdress  done\n",
      "internal loop  ssn_name_dob  done\n",
      "outer loop  fulladdress_dob  done\n",
      "internal loop  ssn  done\n",
      "internal loop  address  done\n",
      "internal loop  dob  done\n",
      "internal loop  homephone  done\n",
      "internal loop  name  done\n",
      "internal loop  fulladdress  done\n",
      "internal loop  name_dob  done\n",
      "internal loop  name_fulladdress  done\n",
      "internal loop  name_homephone  done\n",
      "internal loop  fulladdress_dob  done\n",
      "internal loop  dob_homephone  done\n",
      "internal loop  homephone_name_dob  done\n",
      "internal loop  ssn_firstname  done\n",
      "internal loop  ssn_lastname  done\n",
      "internal loop  ssn_address  done\n",
      "internal loop  ssn_zip5  done\n",
      "internal loop  ssn_dob  done\n",
      "internal loop  ssn_homephone  done\n",
      "internal loop  ssn_name  done\n",
      "internal loop  ssn_fulladdress  done\n",
      "internal loop  ssn_name_dob  done\n",
      "outer loop  fulladdress_homephone  done\n",
      "internal loop  ssn  done\n",
      "internal loop  address  done\n",
      "internal loop  dob  done\n",
      "internal loop  homephone  done\n",
      "internal loop  name  done\n",
      "internal loop  fulladdress  done\n",
      "internal loop  name_dob  done\n",
      "internal loop  name_fulladdress  done\n",
      "internal loop  name_homephone  done\n"
     ]
    },
    {
     "name": "stdout",
     "output_type": "stream",
     "text": [
      "internal loop  fulladdress_dob  done\n",
      "internal loop  fulladdress_homephone  done\n",
      "internal loop  homephone_name_dob  done\n",
      "internal loop  ssn_firstname  done\n",
      "internal loop  ssn_lastname  done\n",
      "internal loop  ssn_address  done\n",
      "internal loop  ssn_zip5  done\n",
      "internal loop  ssn_dob  done\n",
      "internal loop  ssn_homephone  done\n",
      "internal loop  ssn_name  done\n",
      "internal loop  ssn_fulladdress  done\n",
      "internal loop  ssn_name_dob  done\n",
      "outer loop  dob_homephone  done\n",
      "internal loop  ssn  done\n",
      "internal loop  address  done\n",
      "internal loop  dob  done\n",
      "internal loop  homephone  done\n",
      "internal loop  name  done\n",
      "internal loop  fulladdress  done\n",
      "internal loop  name_dob  done\n",
      "internal loop  name_fulladdress  done\n",
      "internal loop  name_homephone  done\n",
      "internal loop  fulladdress_dob  done\n",
      "internal loop  fulladdress_homephone  done\n",
      "internal loop  dob_homephone  done\n",
      "internal loop  ssn_firstname  done\n",
      "internal loop  ssn_lastname  done\n",
      "internal loop  ssn_address  done\n",
      "internal loop  ssn_zip5  done\n",
      "internal loop  ssn_dob  done\n",
      "internal loop  ssn_homephone  done\n",
      "internal loop  ssn_name  done\n",
      "internal loop  ssn_fulladdress  done\n",
      "internal loop  ssn_name_dob  done\n",
      "outer loop  homephone_name_dob  done\n",
      "internal loop  ssn  done\n",
      "internal loop  address  done\n",
      "internal loop  dob  done\n",
      "internal loop  homephone  done\n",
      "internal loop  name  done\n",
      "internal loop  fulladdress  done\n",
      "internal loop  name_dob  done\n",
      "internal loop  name_fulladdress  done\n",
      "internal loop  name_homephone  done\n",
      "internal loop  fulladdress_dob  done\n",
      "internal loop  fulladdress_homephone  done\n",
      "internal loop  dob_homephone  done\n",
      "internal loop  homephone_name_dob  done\n",
      "internal loop  ssn_lastname  done\n",
      "internal loop  ssn_address  done\n",
      "internal loop  ssn_zip5  done\n",
      "internal loop  ssn_dob  done\n",
      "internal loop  ssn_homephone  done\n",
      "internal loop  ssn_name  done\n",
      "internal loop  ssn_fulladdress  done\n",
      "internal loop  ssn_name_dob  done\n",
      "outer loop  ssn_firstname  done\n",
      "internal loop  ssn  done\n",
      "internal loop  address  done\n",
      "internal loop  dob  done\n",
      "internal loop  homephone  done\n",
      "internal loop  name  done\n",
      "internal loop  fulladdress  done\n",
      "internal loop  name_dob  done\n",
      "internal loop  name_fulladdress  done\n",
      "internal loop  name_homephone  done\n",
      "internal loop  fulladdress_dob  done\n",
      "internal loop  fulladdress_homephone  done\n",
      "internal loop  dob_homephone  done\n",
      "internal loop  homephone_name_dob  done\n",
      "internal loop  ssn_firstname  done\n",
      "internal loop  ssn_address  done\n",
      "internal loop  ssn_zip5  done\n",
      "internal loop  ssn_dob  done\n",
      "internal loop  ssn_homephone  done\n",
      "internal loop  ssn_name  done\n",
      "internal loop  ssn_fulladdress  done\n",
      "internal loop  ssn_name_dob  done\n",
      "outer loop  ssn_lastname  done\n",
      "internal loop  ssn  done\n",
      "internal loop  address  done\n",
      "internal loop  dob  done\n",
      "internal loop  homephone  done\n",
      "internal loop  name  done\n",
      "internal loop  fulladdress  done\n",
      "internal loop  name_dob  done\n",
      "internal loop  name_fulladdress  done\n",
      "internal loop  name_homephone  done\n",
      "internal loop  fulladdress_dob  done\n",
      "internal loop  fulladdress_homephone  done\n",
      "internal loop  dob_homephone  done\n",
      "internal loop  homephone_name_dob  done\n",
      "internal loop  ssn_firstname  done\n",
      "internal loop  ssn_lastname  done\n",
      "internal loop  ssn_zip5  done\n",
      "internal loop  ssn_dob  done\n",
      "internal loop  ssn_homephone  done\n",
      "internal loop  ssn_name  done\n",
      "internal loop  ssn_fulladdress  done\n",
      "internal loop  ssn_name_dob  done\n",
      "outer loop  ssn_address  done\n",
      "internal loop  ssn  done\n",
      "internal loop  address  done\n",
      "internal loop  dob  done\n",
      "internal loop  homephone  done\n",
      "internal loop  name  done\n",
      "internal loop  fulladdress  done\n",
      "internal loop  name_dob  done\n",
      "internal loop  name_fulladdress  done\n",
      "internal loop  name_homephone  done\n",
      "internal loop  fulladdress_dob  done\n",
      "internal loop  fulladdress_homephone  done\n",
      "internal loop  dob_homephone  done\n",
      "internal loop  homephone_name_dob  done\n",
      "internal loop  ssn_firstname  done\n",
      "internal loop  ssn_lastname  done\n",
      "internal loop  ssn_address  done\n",
      "internal loop  ssn_dob  done\n",
      "internal loop  ssn_homephone  done\n",
      "internal loop  ssn_name  done\n",
      "internal loop  ssn_fulladdress  done\n",
      "internal loop  ssn_name_dob  done\n",
      "outer loop  ssn_zip5  done\n",
      "internal loop  ssn  done\n",
      "internal loop  address  done\n",
      "internal loop  dob  done\n",
      "internal loop  homephone  done\n",
      "internal loop  name  done\n",
      "internal loop  fulladdress  done\n",
      "internal loop  name_dob  done\n",
      "internal loop  name_fulladdress  done\n",
      "internal loop  name_homephone  done\n",
      "internal loop  fulladdress_dob  done\n",
      "internal loop  fulladdress_homephone  done\n",
      "internal loop  dob_homephone  done\n",
      "internal loop  homephone_name_dob  done\n",
      "internal loop  ssn_firstname  done\n",
      "internal loop  ssn_lastname  done\n",
      "internal loop  ssn_address  done\n",
      "internal loop  ssn_zip5  done\n",
      "internal loop  ssn_homephone  done\n",
      "internal loop  ssn_name  done\n",
      "internal loop  ssn_fulladdress  done\n",
      "internal loop  ssn_name_dob  done\n",
      "outer loop  ssn_dob  done\n",
      "internal loop  ssn  done\n",
      "internal loop  address  done\n",
      "internal loop  dob  done\n",
      "internal loop  homephone  done\n",
      "internal loop  name  done\n",
      "internal loop  fulladdress  done\n",
      "internal loop  name_dob  done\n",
      "internal loop  name_fulladdress  done\n",
      "internal loop  name_homephone  done\n",
      "internal loop  fulladdress_dob  done\n",
      "internal loop  fulladdress_homephone  done\n",
      "internal loop  dob_homephone  done\n",
      "internal loop  homephone_name_dob  done\n",
      "internal loop  ssn_firstname  done\n",
      "internal loop  ssn_lastname  done\n",
      "internal loop  ssn_address  done\n",
      "internal loop  ssn_zip5  done\n",
      "internal loop  ssn_dob  done\n",
      "internal loop  ssn_name  done\n",
      "internal loop  ssn_fulladdress  done\n",
      "internal loop  ssn_name_dob  done\n",
      "outer loop  ssn_homephone  done\n",
      "internal loop  ssn  done\n",
      "internal loop  address  done\n",
      "internal loop  dob  done\n",
      "internal loop  homephone  done\n",
      "internal loop  name  done\n",
      "internal loop  fulladdress  done\n",
      "internal loop  name_dob  done\n",
      "internal loop  name_fulladdress  done\n",
      "internal loop  name_homephone  done\n",
      "internal loop  fulladdress_dob  done\n",
      "internal loop  fulladdress_homephone  done\n",
      "internal loop  dob_homephone  done\n",
      "internal loop  homephone_name_dob  done\n",
      "internal loop  ssn_firstname  done\n",
      "internal loop  ssn_lastname  done\n",
      "internal loop  ssn_address  done\n",
      "internal loop  ssn_zip5  done\n",
      "internal loop  ssn_dob  done\n",
      "internal loop  ssn_homephone  done\n",
      "internal loop  ssn_fulladdress  done\n",
      "internal loop  ssn_name_dob  done\n",
      "outer loop  ssn_name  done\n",
      "internal loop  ssn  done\n",
      "internal loop  address  done\n",
      "internal loop  dob  done\n",
      "internal loop  homephone  done\n",
      "internal loop  name  done\n",
      "internal loop  fulladdress  done\n",
      "internal loop  name_dob  done\n",
      "internal loop  name_fulladdress  done\n",
      "internal loop  name_homephone  done\n",
      "internal loop  fulladdress_dob  done\n",
      "internal loop  fulladdress_homephone  done\n",
      "internal loop  dob_homephone  done\n",
      "internal loop  homephone_name_dob  done\n",
      "internal loop  ssn_firstname  done\n",
      "internal loop  ssn_lastname  done\n",
      "internal loop  ssn_address  done\n",
      "internal loop  ssn_zip5  done\n",
      "internal loop  ssn_dob  done\n",
      "internal loop  ssn_homephone  done\n",
      "internal loop  ssn_name  done\n",
      "internal loop  ssn_name_dob  done\n",
      "outer loop  ssn_fulladdress  done\n",
      "internal loop  ssn  done\n",
      "internal loop  address  done\n",
      "internal loop  dob  done\n",
      "internal loop  homephone  done\n",
      "internal loop  name  done\n",
      "internal loop  fulladdress  done\n",
      "internal loop  name_dob  done\n",
      "internal loop  name_fulladdress  done\n",
      "internal loop  name_homephone  done\n",
      "internal loop  fulladdress_dob  done\n",
      "internal loop  fulladdress_homephone  done\n",
      "internal loop  dob_homephone  done\n",
      "internal loop  homephone_name_dob  done\n",
      "internal loop  ssn_firstname  done\n",
      "internal loop  ssn_lastname  done\n",
      "internal loop  ssn_address  done\n",
      "internal loop  ssn_zip5  done\n",
      "internal loop  ssn_dob  done\n",
      "internal loop  ssn_homephone  done\n",
      "internal loop  ssn_name  done\n",
      "internal loop  ssn_fulladdress  done\n",
      "outer loop  ssn_name_dob  done\n",
      "time taken 42.389891282717386\n"
     ]
    }
   ],
   "source": [
    "begin=time.time()\n",
    "\n",
    "for e in attributes:\n",
    "    for f in attributes:\n",
    "        if f==e:\n",
    "            continue\n",
    "        else:\n",
    "            dfc=data1[['record','date',e]]\n",
    "            dfd=data1[['check_record','check_date',e,f]]\n",
    "            temp=p.merge(dfc,dfd,left_on=e,right_on=e)\n",
    "            #temp=data1[['record','date','check_record','check_date',e,f]]\n",
    "        for t in [1,3,7,14,30,60]:\n",
    "            countday=temp[(temp.check_date >= (temp.date - dt.timedelta(t)))&(temp.record>=temp.check_record)]\n",
    "            colname=f'{e}_unique_count_for_{f}_{t}'\n",
    "            mapper=countday.groupby(['record'])[f].nunique()\n",
    "            vars[colname]=vars.record.map(mapper)\n",
    "        print(\"internal loop \",f,\" done\")\n",
    "    print(\"outer loop \",e,\" done\")\n",
    "print(\"time taken\",(time.time()-begin)/60)"
   ]
  },
  {
   "cell_type": "code",
   "execution_count": 44,
   "id": "f162bf73",
   "metadata": {},
   "outputs": [
    {
     "name": "stdout",
     "output_type": "stream",
     "text": [
      "done\n"
     ]
    }
   ],
   "source": [
    "print('done')"
   ]
  },
  {
   "cell_type": "code",
   "execution_count": 45,
   "id": "a7ae239e",
   "metadata": {},
   "outputs": [
    {
     "data": {
      "text/plain": [
       "(1000000, 3198)"
      ]
     },
     "execution_count": 45,
     "metadata": {},
     "output_type": "execute_result"
    }
   ],
   "source": [
    "vars.shape"
   ]
  },
  {
   "cell_type": "code",
   "execution_count": 46,
   "id": "d500d868",
   "metadata": {},
   "outputs": [],
   "source": [
    "#vars.sample(2)"
   ]
  },
  {
   "cell_type": "code",
   "execution_count": 47,
   "id": "80f8b9d9",
   "metadata": {},
   "outputs": [
    {
     "data": {
      "text/html": [
       "<div>\n",
       "<style scoped>\n",
       "    .dataframe tbody tr th:only-of-type {\n",
       "        vertical-align: middle;\n",
       "    }\n",
       "\n",
       "    .dataframe tbody tr th {\n",
       "        vertical-align: top;\n",
       "    }\n",
       "\n",
       "    .dataframe thead th {\n",
       "        text-align: right;\n",
       "    }\n",
       "</style>\n",
       "<table border=\"1\" class=\"dataframe\">\n",
       "  <thead>\n",
       "    <tr style=\"text-align: right;\">\n",
       "      <th></th>\n",
       "      <th>record</th>\n",
       "      <th>date</th>\n",
       "      <th>ssn</th>\n",
       "      <th>firstname</th>\n",
       "      <th>lastname</th>\n",
       "      <th>address</th>\n",
       "      <th>zip5</th>\n",
       "      <th>dob</th>\n",
       "      <th>homephone</th>\n",
       "      <th>fraud_label</th>\n",
       "      <th>...</th>\n",
       "      <th>ssn_name_dob_unique_count_for_ssn_name_7</th>\n",
       "      <th>ssn_name_dob_unique_count_for_ssn_name_14</th>\n",
       "      <th>ssn_name_dob_unique_count_for_ssn_name_30</th>\n",
       "      <th>ssn_name_dob_unique_count_for_ssn_name_60</th>\n",
       "      <th>ssn_name_dob_unique_count_for_ssn_fulladdress_1</th>\n",
       "      <th>ssn_name_dob_unique_count_for_ssn_fulladdress_3</th>\n",
       "      <th>ssn_name_dob_unique_count_for_ssn_fulladdress_7</th>\n",
       "      <th>ssn_name_dob_unique_count_for_ssn_fulladdress_14</th>\n",
       "      <th>ssn_name_dob_unique_count_for_ssn_fulladdress_30</th>\n",
       "      <th>ssn_name_dob_unique_count_for_ssn_fulladdress_60</th>\n",
       "    </tr>\n",
       "  </thead>\n",
       "  <tbody>\n",
       "    <tr>\n",
       "      <th>707837</th>\n",
       "      <td>707838</td>\n",
       "      <td>2016-09-16</td>\n",
       "      <td>353440098</td>\n",
       "      <td>AAUMMJEZ</td>\n",
       "      <td>ERAERSMT</td>\n",
       "      <td>3882 SUAUS BLVD</td>\n",
       "      <td>77015</td>\n",
       "      <td>19590517</td>\n",
       "      <td>2440631081</td>\n",
       "      <td>1</td>\n",
       "      <td>...</td>\n",
       "      <td>1</td>\n",
       "      <td>1</td>\n",
       "      <td>1</td>\n",
       "      <td>1</td>\n",
       "      <td>1</td>\n",
       "      <td>1</td>\n",
       "      <td>1</td>\n",
       "      <td>1</td>\n",
       "      <td>1</td>\n",
       "      <td>2</td>\n",
       "    </tr>\n",
       "    <tr>\n",
       "      <th>367325</th>\n",
       "      <td>367326</td>\n",
       "      <td>2016-05-14</td>\n",
       "      <td>446664276</td>\n",
       "      <td>XRAEXTUEM</td>\n",
       "      <td>ZRAZXUR</td>\n",
       "      <td>8810 RTMTX WY</td>\n",
       "      <td>61564</td>\n",
       "      <td>19840423</td>\n",
       "      <td>1584890200</td>\n",
       "      <td>0</td>\n",
       "      <td>...</td>\n",
       "      <td>1</td>\n",
       "      <td>1</td>\n",
       "      <td>1</td>\n",
       "      <td>1</td>\n",
       "      <td>1</td>\n",
       "      <td>1</td>\n",
       "      <td>1</td>\n",
       "      <td>1</td>\n",
       "      <td>1</td>\n",
       "      <td>1</td>\n",
       "    </tr>\n",
       "    <tr>\n",
       "      <th>741131</th>\n",
       "      <td>741132</td>\n",
       "      <td>2016-09-28</td>\n",
       "      <td>751125255</td>\n",
       "      <td>MUTAZMAUS</td>\n",
       "      <td>SMTTZJJX</td>\n",
       "      <td>3422 EEMAA LN</td>\n",
       "      <td>46286</td>\n",
       "      <td>19130503</td>\n",
       "      <td>9575392753</td>\n",
       "      <td>0</td>\n",
       "      <td>...</td>\n",
       "      <td>1</td>\n",
       "      <td>1</td>\n",
       "      <td>1</td>\n",
       "      <td>1</td>\n",
       "      <td>1</td>\n",
       "      <td>1</td>\n",
       "      <td>1</td>\n",
       "      <td>1</td>\n",
       "      <td>1</td>\n",
       "      <td>1</td>\n",
       "    </tr>\n",
       "  </tbody>\n",
       "</table>\n",
       "<p>3 rows × 3198 columns</p>\n",
       "</div>"
      ],
      "text/plain": [
       "        record       date        ssn  firstname  lastname          address  \\\n",
       "707837  707838 2016-09-16  353440098   AAUMMJEZ  ERAERSMT  3882 SUAUS BLVD   \n",
       "367325  367326 2016-05-14  446664276  XRAEXTUEM   ZRAZXUR    8810 RTMTX WY   \n",
       "741131  741132 2016-09-28  751125255  MUTAZMAUS  SMTTZJJX    3422 EEMAA LN   \n",
       "\n",
       "         zip5       dob   homephone  fraud_label  ...  \\\n",
       "707837  77015  19590517  2440631081            1  ...   \n",
       "367325  61564  19840423  1584890200            0  ...   \n",
       "741131  46286  19130503  9575392753            0  ...   \n",
       "\n",
       "       ssn_name_dob_unique_count_for_ssn_name_7  \\\n",
       "707837                                        1   \n",
       "367325                                        1   \n",
       "741131                                        1   \n",
       "\n",
       "        ssn_name_dob_unique_count_for_ssn_name_14  \\\n",
       "707837                                          1   \n",
       "367325                                          1   \n",
       "741131                                          1   \n",
       "\n",
       "       ssn_name_dob_unique_count_for_ssn_name_30  \\\n",
       "707837                                         1   \n",
       "367325                                         1   \n",
       "741131                                         1   \n",
       "\n",
       "       ssn_name_dob_unique_count_for_ssn_name_60  \\\n",
       "707837                                         1   \n",
       "367325                                         1   \n",
       "741131                                         1   \n",
       "\n",
       "       ssn_name_dob_unique_count_for_ssn_fulladdress_1  \\\n",
       "707837                                               1   \n",
       "367325                                               1   \n",
       "741131                                               1   \n",
       "\n",
       "       ssn_name_dob_unique_count_for_ssn_fulladdress_3  \\\n",
       "707837                                               1   \n",
       "367325                                               1   \n",
       "741131                                               1   \n",
       "\n",
       "       ssn_name_dob_unique_count_for_ssn_fulladdress_7  \\\n",
       "707837                                               1   \n",
       "367325                                               1   \n",
       "741131                                               1   \n",
       "\n",
       "       ssn_name_dob_unique_count_for_ssn_fulladdress_14  \\\n",
       "707837                                                1   \n",
       "367325                                                1   \n",
       "741131                                                1   \n",
       "\n",
       "       ssn_name_dob_unique_count_for_ssn_fulladdress_30  \\\n",
       "707837                                                1   \n",
       "367325                                                1   \n",
       "741131                                                1   \n",
       "\n",
       "       ssn_name_dob_unique_count_for_ssn_fulladdress_60  \n",
       "707837                                                2  \n",
       "367325                                                1  \n",
       "741131                                                1  \n",
       "\n",
       "[3 rows x 3198 columns]"
      ]
     },
     "execution_count": 47,
     "metadata": {},
     "output_type": "execute_result"
    }
   ],
   "source": [
    "vars.sample(3)"
   ]
  },
  {
   "cell_type": "code",
   "execution_count": 48,
   "id": "dc87ab11",
   "metadata": {},
   "outputs": [],
   "source": [
    "l=vars.columns"
   ]
  },
  {
   "cell_type": "code",
   "execution_count": 49,
   "id": "56fcd651",
   "metadata": {},
   "outputs": [
    {
     "data": {
      "text/plain": [
       "3198"
      ]
     },
     "execution_count": 49,
     "metadata": {},
     "output_type": "execute_result"
    }
   ],
   "source": [
    "l.nunique()"
   ]
  },
  {
   "cell_type": "code",
   "execution_count": 52,
   "id": "828ec599",
   "metadata": {},
   "outputs": [],
   "source": [
    "# c=0\n",
    "# for i in l:\n",
    "#      if i.contains('_day_since'):\n",
    "#             c+=1\n",
    "# c           "
   ]
  },
  {
   "cell_type": "code",
   "execution_count": null,
   "id": "33f83a2d",
   "metadata": {},
   "outputs": [],
   "source": []
  }
 ],
 "metadata": {
  "kernelspec": {
   "display_name": "Python 3 (ipykernel)",
   "language": "python",
   "name": "python3"
  },
  "language_info": {
   "codemirror_mode": {
    "name": "ipython",
    "version": 3
   },
   "file_extension": ".py",
   "mimetype": "text/x-python",
   "name": "python",
   "nbconvert_exporter": "python",
   "pygments_lexer": "ipython3",
   "version": "3.8.8"
  }
 },
 "nbformat": 4,
 "nbformat_minor": 5
}
